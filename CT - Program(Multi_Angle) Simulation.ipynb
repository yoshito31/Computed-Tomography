{
 "cells": [
  {
   "cell_type": "code",
   "execution_count": 1,
   "metadata": {
    "collapsed": true
   },
   "outputs": [],
   "source": [
    "import numpy as np\n",
    "import scipy.special\n",
    "import matplotlib.pyplot as plt\n",
    "import mpl_toolkits.axes_grid1\n",
    "from skimage.transform import radon, iradon\n",
    "import time\n",
    "from numba import double\n",
    "from numba.decorators import jit\n",
    "%matplotlib inline\n",
    "import warnings\n",
    "warnings.filterwarnings('ignore')"
   ]
  },
  {
   "cell_type": "code",
   "execution_count": 2,
   "metadata": {},
   "outputs": [
    {
     "data": {
      "image/png": "[encoded data removed]",
      "text/plain": [
       "<matplotlib.figure.Figure at 0x1133fcb00>"
      ]
     },
     "metadata": {},
     "output_type": "display_data"
    }
   ],
   "source": [
    "# Make 'Simulation Image'\n",
    "Bi= 1.98\n",
    "B0= 2.0\n",
    "K = np.arctanh(Bi/B0)\n",
    "R = .6\n",
    "nm= 10\n",
    "Range = 41\n",
    "image = np.zeros((Range,Range))\n",
    "rad = Range // 2\n",
    "for i in range(0,Range):\n",
    "    for j in range(0,Range):\n",
    "        y = (i - rad) / rad\n",
    "        x = (-j + rad) /rad\n",
    "        r = np.sqrt(x**2+4*y**2-x*y)\n",
    "        if r >= 0.9:\n",
    "            image[i][j] = 0\n",
    "        else:\n",
    "            image[i][j] = nm * 1/(np.cosh(K*(r**2/R**2-1)))\n",
    "# Plot  'Simulation Image'\n",
    "x = np.linspace(-1.,1.,Range)\n",
    "X, Y = np.meshgrid(x, x)\n",
    "plt.contourf(X,Y,image)\n",
    "plt.gca().set_aspect('equal',adjustable = 'box')\n",
    "ax=plt.colorbar()\n",
    "ax.set_label('Intensity')\n",
    "plt.title('Fig. 1  Original Image')\n",
    "plt.show()"
   ]
  },
  {
   "cell_type": "code",
   "execution_count": 3,
   "metadata": {},
   "outputs": [
    {
     "name": "stdout",
     "output_type": "stream",
     "text": [
      "Input Number of Angle\n",
      "6\n",
      "Input Angle(0~180)  : 1\n",
      "0\n",
      "Input Angle(0~180)  : 2\n",
      "30\n",
      "Input Angle(0~180)  : 3\n",
      "60\n",
      "Input Angle(0~180)  : 4\n",
      "90\n",
      "Input Angle(0~180)  : 5\n",
      "120\n",
      "Input Angle(0~180)  : 6\n",
      "150\n"
     ]
    }
   ],
   "source": [
    "# Make [List of Angle]\n",
    "while 1:\n",
    "    print(\"Input Number of Angle\")\n",
    "    num1 = int(input())\n",
    "    if num1!=0:\n",
    "        break\n",
    "φ = np.zeros(2*num1)\n",
    "φ1 = np.zeros(num1)\n",
    "for i in range(0,num1):\n",
    "    print(\"Input Angle(0~180)  :\",i+1)\n",
    "    φ[i] = input()\n",
    "    φ[i+num1] = φ[i] +180 \n",
    "    φ1[i] = φ[i]\n",
    "φ2 = np.zeros(2*num1)\n",
    "for n in range(0,2*num1):\n",
    "    φ2[n] = φ[n]*np.pi/180"
   ]
  },
  {
   "cell_type": "code",
   "execution_count": 4,
   "metadata": {
    "collapsed": true
   },
   "outputs": [],
   "source": [
    "# To Start the Time Measurement\n",
    "t = time.time()"
   ]
  },
  {
   "cell_type": "code",
   "execution_count": 5,
   "metadata": {
    "collapsed": true
   },
   "outputs": [],
   "source": [
    "# Radon Transform & Conbine Matrix\n",
    "project = radon(image,theta = φ1, circle=True)/Range*2\n",
    "image_radon1 = np.zeros((num1,Range))\n",
    "for i in range(0,num1):\n",
    "    for j in range(0,Range):\n",
    "        image_radon1[i][j] = project[j][i]\n",
    "image_normal = np.zeros(0)\n",
    "for i in range(0,num1):\n",
    "    image_normal = np.r_[image_normal,image_radon1[i]]\n",
    "image_radon2 = np.zeros((num1,Range))\n",
    "for i in range(0,num1):\n",
    "    image_radon2[i] = np.array(list(reversed(list(image_radon1[i]))))\n",
    "image_reverse = np.zeros(0)\n",
    "for i in range(0,num1):\n",
    "    image_reverse  = np.r_[image_reverse,image_radon2[i]]\n",
    "image_original = np.r_[image_normal,image_reverse]"
   ]
  },
  {
   "cell_type": "code",
   "execution_count": 6,
   "metadata": {
    "collapsed": true
   },
   "outputs": [],
   "source": [
    "# List of Zero point : Bessel Function\n",
    "c_number = 9\n",
    "λ = scipy.special.jn_zeros(0,c_number)\n",
    "for i in range(0,num1):\n",
    "    λ1 = scipy.special.jn_zeros(i+1,c_number)\n",
    "    λ = np.vstack((λ,λ１))"
   ]
  },
  {
   "cell_type": "code",
   "execution_count": 7,
   "metadata": {},
   "outputs": [
    {
     "name": "stdout",
     "output_type": "stream",
     "text": [
      "CPU times: user 2 µs, sys: 1 µs, total: 3 µs\n",
      "Wall time: 4.05 µs\n"
     ]
    }
   ],
   "source": [
    "# m-order Bessel Function\n",
    "%time\n",
    "@jit\n",
    "def bessel(m, n, k):   # (order,  order-0-point, 0-point)\n",
    "    bes = scipy.special.jv(m,λ[n][k])\n",
    "    return bes"
   ]
  },
  {
   "cell_type": "code",
   "execution_count": 8,
   "metadata": {},
   "outputs": [
    {
     "name": "stdout",
     "output_type": "stream",
     "text": [
      "CPU times: user 3 µs, sys: 1e+03 ns, total: 4 µs\n",
      "Wall time: 6.91 µs\n"
     ]
    }
   ],
   "source": [
    "# m-order Bessel Function (radius)\n",
    "%time\n",
    "@jit\n",
    "def bessel2(m, k, r):   # (order, 0-point, radius)\n",
    "    bes2 = scipy.special.jv(m,λ[m][k]*r)\n",
    "    return bes2"
   ]
  },
  {
   "cell_type": "code",
   "execution_count": 9,
   "metadata": {},
   "outputs": [
    {
     "name": "stdout",
     "output_type": "stream",
     "text": [
      "CPU times: user 3 µs, sys: 1e+03 ns, total: 4 µs\n",
      "Wall time: 7.87 µs\n"
     ]
    }
   ],
   "source": [
    "# m-order Bessel Function (diff)\n",
    "%time\n",
    "@jit\n",
    "def d_bessel(m, k):  # (order, 0-point)\n",
    "    diff = scipy.special.jvp(m,λ[m][k],n=1)\n",
    "    return diff"
   ]
  },
  {
   "cell_type": "code",
   "execution_count": 10,
   "metadata": {},
   "outputs": [
    {
     "name": "stdout",
     "output_type": "stream",
     "text": [
      "CPU times: user 3 µs, sys: 1 µs, total: 4 µs\n",
      "Wall time: 6.91 µs\n"
     ]
    }
   ],
   "source": [
    "# δn  (n = 0  -> 1/2    n ≠ 0  -> 0)\n",
    "%time\n",
    "@jit\n",
    "def delta(n):\n",
    "    if n == 0:\n",
    "        a = 1/2\n",
    "    else:\n",
    "        a = 1\n",
    "    return a"
   ]
  },
  {
   "cell_type": "code",
   "execution_count": 11,
   "metadata": {},
   "outputs": [
    {
     "name": "stdout",
     "output_type": "stream",
     "text": [
      "CPU times: user 2 µs, sys: 0 ns, total: 2 µs\n",
      "Wall time: 5.01 µs\n"
     ]
    }
   ],
   "source": [
    "# Class-2 Tschebysceff Series\n",
    "%time\n",
    "@jit\n",
    "def U(n, p):\n",
    "    u = np.sin( (n+1) * np.arccos(p) ) / ( (1-p**2)**(1/2) )\n",
    "    return u"
   ]
  },
  {
   "cell_type": "code",
   "execution_count": 12,
   "metadata": {},
   "outputs": [
    {
     "name": "stdout",
     "output_type": "stream",
     "text": [
      "CPU times: user 3 µs, sys: 1e+03 ns, total: 4 µs\n",
      "Wall time: 6.2 µs\n"
     ]
    }
   ],
   "source": [
    "# Analytic Solution of Bessel Function (line 1)\n",
    "%time\n",
    "@jit\n",
    "def f_1(m, k, p):\n",
    "    f1 = 2*(1-p**2)**(1/2) * d_bessel(m,k)\n",
    "    return f1"
   ]
  },
  {
   "cell_type": "code",
   "execution_count": 13,
   "metadata": {},
   "outputs": [
    {
     "name": "stdout",
     "output_type": "stream",
     "text": [
      "CPU times: user 2 µs, sys: 1e+03 ns, total: 3 µs\n",
      "Wall time: 5.01 µs\n"
     ]
    }
   ],
   "source": [
    "# Analytic Solution of Bessel Function (line 2-3)\n",
    "%time\n",
    "@jit\n",
    "def f_2(m, k, p):\n",
    "    f2 = 0\n",
    "    for n in range(0,200): # (0,m+1-order) m: bessel-order\n",
    "        if n != m:\n",
    "            f2 += delta(n) * bessel(n,m,k) * np.sin(n * (np.pi/2) - (λ[m,k] * p) ) * ( U(m+n-1,p)/(m+n) + U(m-n-1,p)/(m-n) )  \n",
    "    return f2"
   ]
  },
  {
   "cell_type": "code",
   "execution_count": 14,
   "metadata": {},
   "outputs": [
    {
     "name": "stdout",
     "output_type": "stream",
     "text": [
      "CPU times: user 2 µs, sys: 1 µs, total: 3 µs\n",
      "Wall time: 5.25 µs\n"
     ]
    }
   ],
   "source": [
    "# Analytic Solution of Bessel Function\n",
    "%time\n",
    "@jit\n",
    "def f_mk(m,k,p):\n",
    "    fmk = f_1(m,k,p)*f_2(m,k,p)\n",
    "    return fmk"
   ]
  },
  {
   "cell_type": "code",
   "execution_count": 15,
   "metadata": {},
   "outputs": [
    {
     "name": "stdout",
     "output_type": "stream",
     "text": [
      "CPU times: user 2 µs, sys: 0 ns, total: 2 µs\n",
      "Wall time: 4.05 µs\n"
     ]
    }
   ],
   "source": [
    "# Make Matrix\n",
    "%time\n",
    "@jit\n",
    "def make_a(p,φ):\n",
    "    g = np.ones(2*num1*c_number)\n",
    "    for i in range(0,2*num1):\n",
    "        if i == 0:\n",
    "            for k in range(0,c_number):\n",
    "                g[k] = f_mk(0,k,p)*np.cos(0*φ)\n",
    "        elif i % 2 == 1:\n",
    "            for k in range(0,c_number):\n",
    "                g[k+(i*c_number)] = f_mk((1+i//2),k,p)*np.cos((1+i//2)*φ)\n",
    "        elif i % 2 == 0:\n",
    "            for k in range(0,c_number):\n",
    "                g[k+(i*c_number)] = f_mk((i//2),k,p)*np.sin((i//2)*φ)\n",
    "    return g"
   ]
  },
  {
   "cell_type": "code",
   "execution_count": 16,
   "metadata": {},
   "outputs": [
    {
     "name": "stdout",
     "output_type": "stream",
     "text": [
      "CPU times: user 3 µs, sys: 1 µs, total: 4 µs\n",
      "Wall time: 6.91 µs\n"
     ]
    }
   ],
   "source": [
    "# Conbine Array\n",
    "%time\n",
    "@jit\n",
    "def conb_a(φ,size):\n",
    "    l = len(φ)\n",
    "    g = np.ones(2*num1*c_number)\n",
    "    p = size//2\n",
    "    for i in range(0,l): # roop about φ\n",
    "        for j in range(-p,p+1): # roop about p\n",
    "            px = j / p\n",
    "            if abs(px) != 1:\n",
    "                a = make_a(px,φ[i])\n",
    "                g = np.vstack((g,a))\n",
    "            else:\n",
    "                a = np.zeros(2*num1*c_number)\n",
    "                g = np.vstack((g,a))\n",
    "    g = np.delete(g,0,0)\n",
    "    return g"
   ]
  },
  {
   "cell_type": "code",
   "execution_count": 17,
   "metadata": {},
   "outputs": [
    {
     "name": "stdout",
     "output_type": "stream",
     "text": [
      "CPU times: user 2 µs, sys: 1e+03 ns, total: 3 µs\n",
      "Wall time: 5.25 µs\n"
     ]
    }
   ],
   "source": [
    "# Σamk*Jm(λmkr)*exp(imθ)\n",
    "%time\n",
    "@jit\n",
    "def expand(x,y,A):\n",
    "    r = np.sqrt(x**2+y**2)\n",
    "    θ = np.arctan2(y,x)\n",
    "    Z = 0\n",
    "    for i in range(0,2*num1):\n",
    "        if i == 0:\n",
    "            for k in range(0,c_number):\n",
    "                Z += A[k]*bessel2(0,k,r)*np.cos(0*θ)\n",
    "        elif i % 2 == 1:\n",
    "            for k in range(0,c_number):\n",
    "                Z += A[k+i*c_number]*bessel2(1+(i//2),k,r)*np.cos((1+i//2)*θ)\n",
    "        elif i % 2 == 0:\n",
    "            for k in range(0,c_number):\n",
    "                Z += A[k+i*c_number]*bessel2((i//2),k,r)*np.sin((i//2)*θ)\n",
    "    return Z"
   ]
  },
  {
   "cell_type": "code",
   "execution_count": 18,
   "metadata": {},
   "outputs": [
    {
     "name": "stdout",
     "output_type": "stream",
     "text": [
      "CPU times: user 3 µs, sys: 0 ns, total: 3 µs\n",
      "Wall time: 6.91 µs\n"
     ]
    }
   ],
   "source": [
    "# Σamk*Jm(λmkr)*exp(imθ)\n",
    "%time\n",
    "@jit\n",
    "def expand2(r,θ,A):\n",
    "    Z = 0\n",
    "    for i in range(0,2*num1):\n",
    "        if i == 0:\n",
    "            for k in range(0,c_number):\n",
    "                Z += A[k]*bessel2(0,k,r)*np.cos(0*θ)\n",
    "        elif i % 2 == 1:\n",
    "            for k in range(0,c_number):\n",
    "                Z += A[k+i*c_number]*bessel2(1+(i//2),k,r)*np.cos((1+i//2)*θ)\n",
    "        elif i % 2 == 0:\n",
    "            for k in range(0,c_number):\n",
    "                Z += A[k+i*c_number]*bessel2((i//2),k,r)*np.sin((i//2)*θ) \n",
    "    return Z"
   ]
  },
  {
   "cell_type": "code",
   "execution_count": 19,
   "metadata": {},
   "outputs": [
    {
     "name": "stdout",
     "output_type": "stream",
     "text": [
      "CPU times: user 3 µs, sys: 1 µs, total: 4 µs\n",
      "Wall time: 7.15 µs\n"
     ]
    }
   ],
   "source": [
    "# Luminous Intensity Distribution (1D)\n",
    "%time\n",
    "@jit\n",
    "def plot_1D(A):\n",
    "    xvec = np.linspace(-1.,1.,41)\n",
    "    X,Y = np.meshgrid(xvec,xvec)\n",
    "    Z = -expand(X,Y,A)\n",
    "    plt.plot(image[20], label = \"Original\", color = 'b')\n",
    "    plt.plot(Z[20], 'o', label = \"Reconstruction\", color = '#ff7f00')\n",
    "    plt.legend()\n",
    "    plt.xlabel(\"Pixels\")\n",
    "    plt.ylabel(\"Intensity\")\n",
    "    plt.title('Fig. 2  Luminous Intensity Distribution - 1D -')\n",
    "    plt.show()"
   ]
  },
  {
   "cell_type": "code",
   "execution_count": 20,
   "metadata": {},
   "outputs": [
    {
     "name": "stdout",
     "output_type": "stream",
     "text": [
      "CPU times: user 4 µs, sys: 0 ns, total: 4 µs\n",
      "Wall time: 6.91 µs\n"
     ]
    }
   ],
   "source": [
    "# Luminous Intensity Distribution (2D)\n",
    "%time\n",
    "@jit\n",
    "def plot_2D(A):\n",
    "    X = np.radians(np.linspace(0, 360, 180))\n",
    "    Y = np.arange(0, 1, 0.01)\n",
    "    r, theta = np.meshgrid(Y, X)\n",
    "    values = -expand2(r,theta,A)\n",
    "    fig, ax = plt.subplots(subplot_kw=dict(projection='polar'))\n",
    "    pp = ax.contourf(theta, r, values)\n",
    "    plt.suptitle(\"Fig. 3  Luminous Intensity Distribution - 2D -\")\n",
    "    cbar = plt.colorbar(pp, orientation='vertical')\n",
    "    cbar.ax.set_ylabel('Intensity')\n",
    "    plt.show()"
   ]
  },
  {
   "cell_type": "code",
   "execution_count": 21,
   "metadata": {},
   "outputs": [
    {
     "name": "stdout",
     "output_type": "stream",
     "text": [
      "CPU times: user 2 µs, sys: 0 ns, total: 2 µs\n",
      "Wall time: 5.01 µs\n"
     ]
    }
   ],
   "source": [
    "# Luminous Intensity Distribution (2D)\n",
    "%time\n",
    "@jit\n",
    "def plot_2Ds(A):\n",
    "    x = np.linspace(-1,1,41)\n",
    "    y = np.linspace(-1,1,41)\n",
    "    X, Y = np.meshgrid(x, y)\n",
    "    Z = -expand(X,Y,A)[::-1,::]\n",
    "    plt.gca().set_aspect('equal', adjustable='box')\n",
    "    plt.contourf(X,Y,Z)\n",
    "    plt.suptitle(\"Fig. 3  Luminous Intensity Distribution - 2D -\")\n",
    "    ax=plt.colorbar()\n",
    "    ax.set_label('Intensity')\n",
    "    plt.show()"
   ]
  },
  {
   "cell_type": "code",
   "execution_count": 22,
   "metadata": {},
   "outputs": [
    {
     "name": "stdout",
     "output_type": "stream",
     "text": [
      "CPU times: user 3 µs, sys: 0 ns, total: 3 µs\n",
      "Wall time: 6.91 µs\n"
     ]
    }
   ],
   "source": [
    "%time\n",
    "@jit\n",
    "def matrix_cal(φ,size,image):\n",
    "    # Make Array\n",
    "    G = conb_a(φ,size)\n",
    "    print(\"Size of G :\\t\\t \" ,G.shape)\n",
    "\n",
    "    # Transepose\n",
    "    G_t = G.T\n",
    "    GtG = np.dot(G_t,G)\n",
    "    print(\"Size of GtG　:\\t\\t\" ,GtG.shape)\n",
    "\n",
    "    # Inverse\n",
    "    det_GtG = np.linalg.det(GtG)\n",
    "\n",
    "    # Check det(GtG != 0)\n",
    "    if det_GtG == 0:\n",
    "        print(\"det(GtG) = 0\")\n",
    "    else:\n",
    "        GtG_inv = np.linalg.pinv(GtG)\n",
    "        print(\"Size of GtG_inv :\\t\" ,GtG_inv.shape)\n",
    "\n",
    "    # Coefficient Matirix\n",
    "        C = np.dot(GtG_inv,G_t)\n",
    "        print(\"Size of C :\\t\\t\" , C.shape)\n",
    "        A = np.dot(C,image.T)\n",
    "    return A"
   ]
  },
  {
   "cell_type": "code",
   "execution_count": 23,
   "metadata": {},
   "outputs": [
    {
     "name": "stdout",
     "output_type": "stream",
     "text": [
      "CPU times: user 2 µs, sys: 0 ns, total: 2 µs\n",
      "Wall time: 4.05 µs\n",
      "Size of G :\t\t  (492, 108)\n",
      "Size of GtG　:\t\t (108, 108)\n",
      "Size of GtG_inv :\t (108, 108)\n",
      "Size of C :\t\t (108, 492)\n"
     ]
    },
    {
     "data": {
      "image/png": "[encoded data removed]",
      "text/plain": [
       "<matplotlib.figure.Figure at 0x1189956a0>"
      ]
     },
     "metadata": {},
     "output_type": "display_data"
    },
    {
     "data": {
      "image/png": "[encoded data removed]",
      "text/plain": [
       "<matplotlib.figure.Figure at 0x118fe9518>"
      ]
     },
     "metadata": {},
     "output_type": "display_data"
    },
    {
     "name": "stdout",
     "output_type": "stream",
     "text": [
      "Direction : 6\n",
      "Run time : 105.26987624168396\n"
     ]
    }
   ],
   "source": [
    "# Plot\n",
    "%time\n",
    "A1 = matrix_cal(φ2,Range,image_original)\n",
    "plot_1D(A1)\n",
    "plot_2Ds(A1)\n",
    "print(\"Direction :\",num1)\n",
    "print(\"Run time :\",time.time() - t)"
   ]
  }
 ],
 "metadata": {
  "kernelspec": {
   "display_name": "Python 3",
   "language": "python",
   "name": "python3"
  },
  "language_info": {
   "codemirror_mode": {
    "name": "ipython",
    "version": 3
   },
   "file_extension": ".py",
   "mimetype": "text/x-python",
   "name": "python",
   "nbconvert_exporter": "python",
   "pygments_lexer": "ipython3",
   "version": "3.6.1"
  }
 },
 "nbformat": 4,
 "nbformat_minor": 2
}
